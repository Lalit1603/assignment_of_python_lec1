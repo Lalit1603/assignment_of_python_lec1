{
 "cells": [
  {
   "cell_type": "raw",
   "id": "f3ae65a3-20a0-4786-ab8b-b7b8515a3f57",
   "metadata": {},
   "source": [
    "1. Declare two variables, `x` and `y`, and assign them integer values. Swap the\n",
    "values of these variables without using any temporary variable."
   ]
  },
  {
   "cell_type": "code",
   "execution_count": 4,
   "id": "2d18245a-6031-4b81-af0c-6faead556a19",
   "metadata": {},
   "outputs": [
    {
     "name": "stdout",
     "output_type": "stream",
     "text": [
      "Before Swapping\n",
      "10 20\n",
      "After Swapping\n",
      "20 10\n"
     ]
    }
   ],
   "source": [
    "a=10\n",
    "b=20\n",
    "print(\"Before Swapping\")\n",
    "print(a,b)\n",
    "\n",
    "a,b=b,a#using this we can swap the values\n",
    "\n",
    "print(\"After Swapping\")\n",
    "print(a,b)"
   ]
  },
  {
   "cell_type": "raw",
   "id": "2f4b594e-229e-466d-87df-3b0a86cecb23",
   "metadata": {},
   "source": [
    "2.Create a program that calculates the area of a rectangle. Take the length and\n",
    "width as inputs from the user and store them in variables. Calculate and\n",
    "display the area."
   ]
  },
  {
   "cell_type": "code",
   "execution_count": 2,
   "id": "30170dce-b4ef-49ff-9865-d20beced56fa",
   "metadata": {},
   "outputs": [
    {
     "name": "stdin",
     "output_type": "stream",
     "text": [
      "Enter the length of Rectangle 20\n",
      "Enter the width of Rectangle 8\n"
     ]
    },
    {
     "name": "stdout",
     "output_type": "stream",
     "text": [
      "The area of Rectangle is: 160.0\n"
     ]
    }
   ],
   "source": [
    "l=float(input(\"Enter the length of Rectangle\"))\n",
    "w=float(input(\"Enter the width of Rectangle\"))\n",
    "area_of_rect=l*w\n",
    "print(\"The area of Rectangle is:\",area_of_rect)"
   ]
  },
  {
   "cell_type": "raw",
   "id": "86f6b151-41aa-4995-9c0d-13012311f92c",
   "metadata": {},
   "source": [
    "3.Write a Python program that converts temperatures from Celsius to\n",
    "Fahrenheit. Take the temperature in Celsius as input, store it in a variable,\n",
    "convert it to Fahrenheit, and display the result."
   ]
  },
  {
   "cell_type": "code",
   "execution_count": 3,
   "id": "267cee1c-fca5-41f9-8d32-4d5139ad092e",
   "metadata": {},
   "outputs": [
    {
     "name": "stdin",
     "output_type": "stream",
     "text": [
      "Enter temperature in Celsius:  88.90\n"
     ]
    },
    {
     "name": "stdout",
     "output_type": "stream",
     "text": [
      "88.9 degrees Celsius is equal to 192.02 degrees Fahrenheit.\n"
     ]
    }
   ],
   "source": [
    "# Function to convert Celsius to Fahrenheit\n",
    "def celsius_to_fahrenheit(celsius):\n",
    "    return (celsius * 9/5) + 32\n",
    "\n",
    "# Input temperature in Celsius\n",
    "celsius_temperature = float(input(\"Enter temperature in Celsius: \"))\n",
    "\n",
    "# Convert Celsius to Fahrenheit using the function\n",
    "fahrenheit_temperature = celsius_to_fahrenheit(celsius_temperature)\n",
    "\n",
    "# Display the result\n",
    "print(f\"{celsius_temperature} degrees Celsius is equal to {fahrenheit_temperature} degrees Fahrenheit.\")\n"
   ]
  },
  {
   "cell_type": "raw",
   "id": "d09e475f-ead2-4ea3-a2be-b79b3a246a67",
   "metadata": {},
   "source": [
    "4.Write a Python program that takes a string as input and prints the length of\n",
    "the string."
   ]
  },
  {
   "cell_type": "code",
   "execution_count": 6,
   "id": "ed634b31-8abf-4fd4-ad9c-bf3f7fcb7e20",
   "metadata": {},
   "outputs": [
    {
     "name": "stdin",
     "output_type": "stream",
     "text": [
      "Enter any String Lalit\n"
     ]
    },
    {
     "name": "stdout",
     "output_type": "stream",
     "text": [
      "The length of given String is 5\n"
     ]
    }
   ],
   "source": [
    "a=input(\"Enter any String\")\n",
    "print(\"The length of given String is\",len(a))"
   ]
  },
  {
   "cell_type": "raw",
   "id": "2816f33e-8ec6-48c2-baef-5d486947980c",
   "metadata": {},
   "source": [
    "5.Create a program that takes a sentence from the user and counts the number\n",
    "of vowels (a, e, i, o, u) in the string."
   ]
  },
  {
   "cell_type": "code",
   "execution_count": 13,
   "id": "214e2e6e-7ff0-489b-9173-a2b11ff3d3fc",
   "metadata": {},
   "outputs": [
    {
     "name": "stdin",
     "output_type": "stream",
     "text": [
      "Enter a sentence:  lalit\n"
     ]
    },
    {
     "name": "stdout",
     "output_type": "stream",
     "text": [
      "Number of vowels in the sentence: 2\n"
     ]
    }
   ],
   "source": [
    "def count_vowels(sentence):\n",
    "    vowels = \"aeiouAEIOU\"\n",
    "    vowel_count = 0\n",
    "\n",
    "    for char in sentence:\n",
    "        if char in vowels:\n",
    "            vowel_count += 1\n",
    "\n",
    "    return vowel_count\n",
    "\n",
    "# Get input from the user\n",
    "user_sentence = input(\"Enter a sentence: \")\n",
    "\n",
    "# Count vowels and display the result\n",
    "result = count_vowels(user_sentence)\n",
    "print(\"Number of vowels in the sentence:\",result)\n"
   ]
  },
  {
   "cell_type": "raw",
   "id": "d1926a81-fed7-4a54-b42b-5e05d21b07fe",
   "metadata": {},
   "source": [
    "3. Given a string, reverse the order of characters using string slicing and print\n",
    "the reversed string."
   ]
  },
  {
   "cell_type": "code",
   "execution_count": 15,
   "id": "88e8faf0-2f84-4d19-baf3-86a131b5ebb5",
   "metadata": {},
   "outputs": [
    {
     "name": "stdin",
     "output_type": "stream",
     "text": [
      "Enter the String lalit\n"
     ]
    },
    {
     "name": "stdout",
     "output_type": "stream",
     "text": [
      "tilal\n"
     ]
    }
   ],
   "source": [
    "a=input(\"Enter the String\")\n",
    "print(a[::-1])"
   ]
  },
  {
   "cell_type": "raw",
   "id": "168dfaa4-6c2a-43a6-9ba0-cac9940438e1",
   "metadata": {},
   "source": [
    "4. Write a program that takes a string as input and checks if it is a palindrome"
   ]
  },
  {
   "cell_type": "code",
   "execution_count": 24,
   "id": "43a75761-1eb9-4942-aed6-0ccad31e1f09",
   "metadata": {},
   "outputs": [
    {
     "name": "stdin",
     "output_type": "stream",
     "text": [
      "Enter a any string racecar\n"
     ]
    },
    {
     "name": "stdout",
     "output_type": "stream",
     "text": [
      "the string is palindrome\n"
     ]
    }
   ],
   "source": [
    "def palindrom_string(string):\n",
    "    if string[::1] ==string[::-1]:\n",
    "        return True\n",
    "    else: \n",
    "        return False\n",
    "    \n",
    "\n",
    "string=input(\"Enter a any string\")\n",
    "result=palindrom_string(string)\n",
    "\n",
    "if result==True:\n",
    "    print(\"the string is palindrome\")\n",
    "else:\n",
    "    print(\"the string is not palindrome\")"
   ]
  },
  {
   "cell_type": "raw",
   "id": "a30baf10-11b3-4319-b023-76cfe91985ef",
   "metadata": {},
   "source": [
    "5. Create a program that takes a string as input and removes all the spaces from\n",
    "it. Print the modified string without spaces."
   ]
  },
  {
   "cell_type": "code",
   "execution_count": 25,
   "id": "b66dbcf8-d6f1-43a7-b005-0a61caf7a2c2",
   "metadata": {},
   "outputs": [
    {
     "name": "stdin",
     "output_type": "stream",
     "text": [
      "Enter a string:  l a l i t    borase\n"
     ]
    },
    {
     "name": "stdout",
     "output_type": "stream",
     "text": [
      "Modified string without spaces: lalitborase\n"
     ]
    }
   ],
   "source": [
    "# Get input from the user\n",
    "user_input = input(\"Enter a string: \")\n",
    "\n",
    "# Remove spaces and display the modified string\n",
    "modified_string = user_input.replace(\" \", \"\")\n",
    "print(\"Modified string without spaces:\", modified_string)\n"
   ]
  },
  {
   "cell_type": "code",
   "execution_count": null,
   "id": "f0353c6c-771d-4cea-83fd-c9d3b775604c",
   "metadata": {},
   "outputs": [],
   "source": []
  }
 ],
 "metadata": {
  "kernelspec": {
   "display_name": "Python 3 (ipykernel)",
   "language": "python",
   "name": "python3"
  },
  "language_info": {
   "codemirror_mode": {
    "name": "ipython",
    "version": 3
   },
   "file_extension": ".py",
   "mimetype": "text/x-python",
   "name": "python",
   "nbconvert_exporter": "python",
   "pygments_lexer": "ipython3",
   "version": "3.10.8"
  }
 },
 "nbformat": 4,
 "nbformat_minor": 5
}
